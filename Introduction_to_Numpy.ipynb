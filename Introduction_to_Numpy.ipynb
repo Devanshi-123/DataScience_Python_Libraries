{
  "nbformat": 4,
  "nbformat_minor": 0,
  "metadata": {
    "colab": {
      "name": "Introduction to Numpy",
      "provenance": [],
      "collapsed_sections": [],
      "toc_visible": true,
      "mount_file_id": "19UHg5MNThJhTq-1M-JCMvjy3SWZj3eU_",
      "authorship_tag": "ABX9TyOqE6z2odxw82QGmmhMQRqI",
      "include_colab_link": true
    },
    "kernelspec": {
      "name": "python3",
      "display_name": "Python 3"
    }
  },
  "cells": [
    {
      "cell_type": "markdown",
      "metadata": {
        "id": "view-in-github",
        "colab_type": "text"
      },
      "source": [
        "<a href=\"https://colab.research.google.com/github/Devanshi-123/DataScience_Python_Libraries/blob/master/Introduction_to_Numpy.ipynb\" target=\"_parent\"><img src=\"https://colab.research.google.com/assets/colab-badge.svg\" alt=\"Open In Colab\"/></a>"
      ]
    },
    {
      "cell_type": "markdown",
      "metadata": {
        "id": "ppjETkC6n6zR",
        "colab_type": "text"
      },
      "source": [
        "# Introduction To Numpy"
      ]
    },
    {
      "cell_type": "markdown",
      "metadata": {
        "id": "AcE3HRxmoHN0",
        "colab_type": "text"
      },
      "source": [
        "## Datatype of Numpy"
      ]
    },
    {
      "cell_type": "code",
      "metadata": {
        "id": "2-ZFzqbsoMZH",
        "colab_type": "code",
        "colab": {}
      },
      "source": [
        "#import numpy\n",
        "import numpy as np"
      ],
      "execution_count": 1,
      "outputs": []
    },
    {
      "cell_type": "code",
      "metadata": {
        "id": "iiHbY4EXoBll",
        "colab_type": "code",
        "colab": {
          "base_uri": "https://localhost:8080/",
          "height": 34
        },
        "outputId": "492018bc-b55d-41d6-e5a9-eaf3604cbe37"
      },
      "source": [
        "#1d array\n",
        "a1 = np.array([1,2,3])\n",
        "a1"
      ],
      "execution_count": 2,
      "outputs": [
        {
          "output_type": "execute_result",
          "data": {
            "text/plain": [
              "array([1, 2, 3])"
            ]
          },
          "metadata": {
            "tags": []
          },
          "execution_count": 2
        }
      ]
    },
    {
      "cell_type": "code",
      "metadata": {
        "id": "ZsfpeUhgogPY",
        "colab_type": "code",
        "colab": {
          "base_uri": "https://localhost:8080/",
          "height": 51
        },
        "outputId": "6fab20b1-851a-4ea4-9d37-38f875b8e94d"
      },
      "source": [
        "#2d array\n",
        "a2 = np.array([[1.0,2.8,3],[4,5,6]])\n",
        "a2"
      ],
      "execution_count": 3,
      "outputs": [
        {
          "output_type": "execute_result",
          "data": {
            "text/plain": [
              "array([[1. , 2.8, 3. ],\n",
              "       [4. , 5. , 6. ]])"
            ]
          },
          "metadata": {
            "tags": []
          },
          "execution_count": 3
        }
      ]
    },
    {
      "cell_type": "code",
      "metadata": {
        "id": "fP6bmOW5oo7N",
        "colab_type": "code",
        "colab": {
          "base_uri": "https://localhost:8080/",
          "height": 136
        },
        "outputId": "53e751d7-5da1-42bb-8b02-b8f02d8e91cd"
      },
      "source": [
        "#3d array\n",
        "a3 = np.array([[[1,2,3],[4,5,6],[5,6,7]],[[7,8,9],[10,11,12],[13,14,15]]])\n",
        "a3"
      ],
      "execution_count": 4,
      "outputs": [
        {
          "output_type": "execute_result",
          "data": {
            "text/plain": [
              "array([[[ 1,  2,  3],\n",
              "        [ 4,  5,  6],\n",
              "        [ 5,  6,  7]],\n",
              "\n",
              "       [[ 7,  8,  9],\n",
              "        [10, 11, 12],\n",
              "        [13, 14, 15]]])"
            ]
          },
          "metadata": {
            "tags": []
          },
          "execution_count": 4
        }
      ]
    },
    {
      "cell_type": "markdown",
      "metadata": {
        "id": "gFcnq6GMpKH4",
        "colab_type": "text"
      },
      "source": [
        "## Attributes to define these arrays"
      ]
    },
    {
      "cell_type": "code",
      "metadata": {
        "id": "7bixn2oTpOqd",
        "colab_type": "code",
        "colab": {
          "base_uri": "https://localhost:8080/",
          "height": 34
        },
        "outputId": "ecd7a7cf-a1f5-4925-c6f6-e950a4b0044d"
      },
      "source": [
        "a1.shape,a2.shape,a3.shape"
      ],
      "execution_count": 5,
      "outputs": [
        {
          "output_type": "execute_result",
          "data": {
            "text/plain": [
              "((3,), (2, 3), (2, 3, 3))"
            ]
          },
          "metadata": {
            "tags": []
          },
          "execution_count": 5
        }
      ]
    },
    {
      "cell_type": "code",
      "metadata": {
        "id": "Ik3APKLYpUT1",
        "colab_type": "code",
        "colab": {
          "base_uri": "https://localhost:8080/",
          "height": 34
        },
        "outputId": "ae8114bd-2862-4a7d-8814-3aad4beb39b6"
      },
      "source": [
        "a1.ndim,a2.ndim,a3.ndim"
      ],
      "execution_count": 6,
      "outputs": [
        {
          "output_type": "execute_result",
          "data": {
            "text/plain": [
              "(1, 2, 3)"
            ]
          },
          "metadata": {
            "tags": []
          },
          "execution_count": 6
        }
      ]
    },
    {
      "cell_type": "code",
      "metadata": {
        "id": "8Plz3wcCpZid",
        "colab_type": "code",
        "colab": {
          "base_uri": "https://localhost:8080/",
          "height": 34
        },
        "outputId": "319f4052-38e8-457c-f005-7ef2e7da39bf"
      },
      "source": [
        "a1.dtype,a2.dtype,a3.dtype"
      ],
      "execution_count": 7,
      "outputs": [
        {
          "output_type": "execute_result",
          "data": {
            "text/plain": [
              "(dtype('int64'), dtype('float64'), dtype('int64'))"
            ]
          },
          "metadata": {
            "tags": []
          },
          "execution_count": 7
        }
      ]
    },
    {
      "cell_type": "code",
      "metadata": {
        "id": "mGG2YJFCpe8X",
        "colab_type": "code",
        "colab": {
          "base_uri": "https://localhost:8080/",
          "height": 34
        },
        "outputId": "6ce787e2-6c94-4b59-b8a7-7fa61d934803"
      },
      "source": [
        "a1.size,a2.size,a3.size"
      ],
      "execution_count": 8,
      "outputs": [
        {
          "output_type": "execute_result",
          "data": {
            "text/plain": [
              "(3, 6, 18)"
            ]
          },
          "metadata": {
            "tags": []
          },
          "execution_count": 8
        }
      ]
    },
    {
      "cell_type": "code",
      "metadata": {
        "id": "MG6V4bMvplEW",
        "colab_type": "code",
        "colab": {
          "base_uri": "https://localhost:8080/",
          "height": 34
        },
        "outputId": "9715047c-fe68-4571-c773-91fff0161958"
      },
      "source": [
        "type(a1),type(a2),type(a3)"
      ],
      "execution_count": 9,
      "outputs": [
        {
          "output_type": "execute_result",
          "data": {
            "text/plain": [
              "(numpy.ndarray, numpy.ndarray, numpy.ndarray)"
            ]
          },
          "metadata": {
            "tags": []
          },
          "execution_count": 9
        }
      ]
    },
    {
      "cell_type": "markdown",
      "metadata": {
        "id": "tyQh45Fxpudl",
        "colab_type": "text"
      },
      "source": [
        "##Creating dataframe from numpy array"
      ]
    },
    {
      "cell_type": "code",
      "metadata": {
        "id": "camKCaGopyqm",
        "colab_type": "code",
        "colab": {
          "base_uri": "https://localhost:8080/",
          "height": 111
        },
        "outputId": "8df4d6d2-abd3-4967-ee71-725bcb392056"
      },
      "source": [
        "import pandas as pd\n",
        "df = pd.DataFrame(a2)\n",
        "df"
      ],
      "execution_count": 10,
      "outputs": [
        {
          "output_type": "execute_result",
          "data": {
            "text/html": [
              "<div>\n",
              "<style scoped>\n",
              "    .dataframe tbody tr th:only-of-type {\n",
              "        vertical-align: middle;\n",
              "    }\n",
              "\n",
              "    .dataframe tbody tr th {\n",
              "        vertical-align: top;\n",
              "    }\n",
              "\n",
              "    .dataframe thead th {\n",
              "        text-align: right;\n",
              "    }\n",
              "</style>\n",
              "<table border=\"1\" class=\"dataframe\">\n",
              "  <thead>\n",
              "    <tr style=\"text-align: right;\">\n",
              "      <th></th>\n",
              "      <th>0</th>\n",
              "      <th>1</th>\n",
              "      <th>2</th>\n",
              "    </tr>\n",
              "  </thead>\n",
              "  <tbody>\n",
              "    <tr>\n",
              "      <th>0</th>\n",
              "      <td>1.0</td>\n",
              "      <td>2.8</td>\n",
              "      <td>3.0</td>\n",
              "    </tr>\n",
              "    <tr>\n",
              "      <th>1</th>\n",
              "      <td>4.0</td>\n",
              "      <td>5.0</td>\n",
              "      <td>6.0</td>\n",
              "    </tr>\n",
              "  </tbody>\n",
              "</table>\n",
              "</div>"
            ],
            "text/plain": [
              "     0    1    2\n",
              "0  1.0  2.8  3.0\n",
              "1  4.0  5.0  6.0"
            ]
          },
          "metadata": {
            "tags": []
          },
          "execution_count": 10
        }
      ]
    },
    {
      "cell_type": "markdown",
      "metadata": {
        "id": "4eHf0wtYqABd",
        "colab_type": "text"
      },
      "source": [
        "## Creating arrays from random data"
      ]
    },
    {
      "cell_type": "code",
      "metadata": {
        "id": "QDtxrMBNqC3d",
        "colab_type": "code",
        "colab": {
          "base_uri": "https://localhost:8080/",
          "height": 34
        },
        "outputId": "9c5b8d9d-416d-4955-f1d2-524f771d2a68"
      },
      "source": [
        "#By manually providing values\n",
        "sample_array = np.array([1,2,3])\n",
        "sample_array"
      ],
      "execution_count": 11,
      "outputs": [
        {
          "output_type": "execute_result",
          "data": {
            "text/plain": [
              "array([1, 2, 3])"
            ]
          },
          "metadata": {
            "tags": []
          },
          "execution_count": 11
        }
      ]
    },
    {
      "cell_type": "code",
      "metadata": {
        "id": "42wUMvTfqLGt",
        "colab_type": "code",
        "colab": {
          "base_uri": "https://localhost:8080/",
          "height": 51
        },
        "outputId": "88916d8e-a9f6-4be7-db5e-f080fb5ab4de"
      },
      "source": [
        "#using function\n",
        "#ones function will generate array of given size having all ones\n",
        "ones = np.ones((2,3))\n",
        "ones"
      ],
      "execution_count": 12,
      "outputs": [
        {
          "output_type": "execute_result",
          "data": {
            "text/plain": [
              "array([[1., 1., 1.],\n",
              "       [1., 1., 1.]])"
            ]
          },
          "metadata": {
            "tags": []
          },
          "execution_count": 12
        }
      ]
    },
    {
      "cell_type": "code",
      "metadata": {
        "id": "pnTFwtEFqYN0",
        "colab_type": "code",
        "colab": {
          "base_uri": "https://localhost:8080/",
          "height": 34
        },
        "outputId": "12b4dc6f-a206-4086-fcc9-c5599fd82533"
      },
      "source": [
        "#arange function will fill values from start to end having the given space\n",
        "range_array = np.arange(0,10,2)\n",
        "range_array"
      ],
      "execution_count": 13,
      "outputs": [
        {
          "output_type": "execute_result",
          "data": {
            "text/plain": [
              "array([0, 2, 4, 6, 8])"
            ]
          },
          "metadata": {
            "tags": []
          },
          "execution_count": 13
        }
      ]
    },
    {
      "cell_type": "code",
      "metadata": {
        "id": "FL6BphI7qoDe",
        "colab_type": "code",
        "colab": {
          "base_uri": "https://localhost:8080/",
          "height": 68
        },
        "outputId": "ce0f51d1-c983-4100-ca17-7720c22ecbd6"
      },
      "source": [
        "#rand int function fills all the random values from given start(inclusive) to end(exclusive)\n",
        "random_array_1 = np.random.randint(0,10,size=(3,5))\n",
        "random_array_1"
      ],
      "execution_count": 14,
      "outputs": [
        {
          "output_type": "execute_result",
          "data": {
            "text/plain": [
              "array([[0, 6, 8, 8, 6],\n",
              "       [9, 7, 8, 9, 4],\n",
              "       [7, 4, 5, 6, 6]])"
            ]
          },
          "metadata": {
            "tags": []
          },
          "execution_count": 14
        }
      ]
    },
    {
      "cell_type": "code",
      "metadata": {
        "id": "rWGaqrDVsxpe",
        "colab_type": "code",
        "colab": {
          "base_uri": "https://localhost:8080/",
          "height": 34
        },
        "outputId": "fd4a4c77-5a4a-4d03-862f-8ecacb71da44"
      },
      "source": [
        "np.unique(random_array_1)"
      ],
      "execution_count": 15,
      "outputs": [
        {
          "output_type": "execute_result",
          "data": {
            "text/plain": [
              "array([0, 4, 5, 6, 7, 8, 9])"
            ]
          },
          "metadata": {
            "tags": []
          },
          "execution_count": 15
        }
      ]
    },
    {
      "cell_type": "code",
      "metadata": {
        "id": "bGpIdPxGrE1N",
        "colab_type": "code",
        "colab": {
          "base_uri": "https://localhost:8080/",
          "height": 102
        },
        "outputId": "cb6a424b-878a-4f45-a7e5-f104d772c315"
      },
      "source": [
        "#random function generates array of given size having values from 0.0 to 1.0exclusive\n",
        "random_array_2 = np.random.random((5,3))\n",
        "random_array_2"
      ],
      "execution_count": 16,
      "outputs": [
        {
          "output_type": "execute_result",
          "data": {
            "text/plain": [
              "array([[0.89858804, 0.0616574 , 0.48334647],\n",
              "       [0.66822711, 0.68997077, 0.01014261],\n",
              "       [0.56870264, 0.49519995, 0.36402761],\n",
              "       [0.93212917, 0.00783002, 0.81356971],\n",
              "       [0.0651654 , 0.40844542, 0.86183396]])"
            ]
          },
          "metadata": {
            "tags": []
          },
          "execution_count": 16
        }
      ]
    },
    {
      "cell_type": "code",
      "metadata": {
        "id": "GXCLVE0Srjw8",
        "colab_type": "code",
        "colab": {
          "base_uri": "https://localhost:8080/",
          "height": 102
        },
        "outputId": "d6bd0890-90eb-4925-c153-542eca37eaae"
      },
      "source": [
        "#rand function will just generate random value \n",
        "np.random.seed(seed=0)\n",
        "random_array_3 = np.random.rand(5,3)\n",
        "random_array_3"
      ],
      "execution_count": 17,
      "outputs": [
        {
          "output_type": "execute_result",
          "data": {
            "text/plain": [
              "array([[0.5488135 , 0.71518937, 0.60276338],\n",
              "       [0.54488318, 0.4236548 , 0.64589411],\n",
              "       [0.43758721, 0.891773  , 0.96366276],\n",
              "       [0.38344152, 0.79172504, 0.52889492],\n",
              "       [0.56804456, 0.92559664, 0.07103606]])"
            ]
          },
          "metadata": {
            "tags": []
          },
          "execution_count": 17
        }
      ]
    },
    {
      "cell_type": "markdown",
      "metadata": {
        "id": "g28Icc0WrxJv",
        "colab_type": "text"
      },
      "source": [
        "## Pseudo random numbers"
      ]
    },
    {
      "cell_type": "code",
      "metadata": {
        "id": "xckEUscHr3Bu",
        "colab_type": "code",
        "colab": {}
      },
      "source": [
        "#Since each time we run the function it will generate new values \n",
        "# so inorder to keep the randomly generated values fixed\n",
        "np.random.seed(seed=0)"
      ],
      "execution_count": 18,
      "outputs": []
    },
    {
      "cell_type": "markdown",
      "metadata": {
        "id": "zhlcN6qhsmAe",
        "colab_type": "text"
      },
      "source": [
        "##Viewing Arrays And Matrices"
      ]
    },
    {
      "cell_type": "code",
      "metadata": {
        "id": "kZPqome1sqe-",
        "colab_type": "code",
        "colab": {
          "base_uri": "https://localhost:8080/",
          "height": 68
        },
        "outputId": "72782ce0-3038-42cc-e965-30af5a8ed630"
      },
      "source": [
        "a3[0]"
      ],
      "execution_count": 19,
      "outputs": [
        {
          "output_type": "execute_result",
          "data": {
            "text/plain": [
              "array([[1, 2, 3],\n",
              "       [4, 5, 6],\n",
              "       [5, 6, 7]])"
            ]
          },
          "metadata": {
            "tags": []
          },
          "execution_count": 19
        }
      ]
    },
    {
      "cell_type": "code",
      "metadata": {
        "id": "3CUvjavuvUg9",
        "colab_type": "code",
        "colab": {
          "base_uri": "https://localhost:8080/",
          "height": 34
        },
        "outputId": "0bd2e733-335a-4d13-cdb6-ae1758f93bdc"
      },
      "source": [
        "a3.shape"
      ],
      "execution_count": 20,
      "outputs": [
        {
          "output_type": "execute_result",
          "data": {
            "text/plain": [
              "(2, 3, 3)"
            ]
          },
          "metadata": {
            "tags": []
          },
          "execution_count": 20
        }
      ]
    },
    {
      "cell_type": "code",
      "metadata": {
        "id": "QInfc-qZv4Ei",
        "colab_type": "code",
        "colab": {
          "base_uri": "https://localhost:8080/",
          "height": 136
        },
        "outputId": "4a85b1c1-fea6-4d0d-a8b8-3dc4a6c93c3c"
      },
      "source": [
        "a3"
      ],
      "execution_count": 21,
      "outputs": [
        {
          "output_type": "execute_result",
          "data": {
            "text/plain": [
              "array([[[ 1,  2,  3],\n",
              "        [ 4,  5,  6],\n",
              "        [ 5,  6,  7]],\n",
              "\n",
              "       [[ 7,  8,  9],\n",
              "        [10, 11, 12],\n",
              "        [13, 14, 15]]])"
            ]
          },
          "metadata": {
            "tags": []
          },
          "execution_count": 21
        }
      ]
    },
    {
      "cell_type": "code",
      "metadata": {
        "id": "2TeN82oLvwHk",
        "colab_type": "code",
        "colab": {
          "base_uri": "https://localhost:8080/",
          "height": 102
        },
        "outputId": "21de7388-353a-48a8-d7c5-02e7edc2bb90"
      },
      "source": [
        "a3[:2,:2,:2]"
      ],
      "execution_count": 22,
      "outputs": [
        {
          "output_type": "execute_result",
          "data": {
            "text/plain": [
              "array([[[ 1,  2],\n",
              "        [ 4,  5]],\n",
              "\n",
              "       [[ 7,  8],\n",
              "        [10, 11]]])"
            ]
          },
          "metadata": {
            "tags": []
          },
          "execution_count": 22
        }
      ]
    },
    {
      "cell_type": "code",
      "metadata": {
        "id": "nMTN8eJ2wQ1-",
        "colab_type": "code",
        "colab": {
          "base_uri": "https://localhost:8080/",
          "height": 527
        },
        "outputId": "15628a36-0522-4bc8-a11a-1b9b2929cb1b"
      },
      "source": [
        "random_array_4 = np.random.rand(2,3,4,5)\n",
        "random_array_4"
      ],
      "execution_count": 23,
      "outputs": [
        {
          "output_type": "execute_result",
          "data": {
            "text/plain": [
              "array([[[[0.5488135 , 0.71518937, 0.60276338, 0.54488318, 0.4236548 ],\n",
              "         [0.64589411, 0.43758721, 0.891773  , 0.96366276, 0.38344152],\n",
              "         [0.79172504, 0.52889492, 0.56804456, 0.92559664, 0.07103606],\n",
              "         [0.0871293 , 0.0202184 , 0.83261985, 0.77815675, 0.87001215]],\n",
              "\n",
              "        [[0.97861834, 0.79915856, 0.46147936, 0.78052918, 0.11827443],\n",
              "         [0.63992102, 0.14335329, 0.94466892, 0.52184832, 0.41466194],\n",
              "         [0.26455561, 0.77423369, 0.45615033, 0.56843395, 0.0187898 ],\n",
              "         [0.6176355 , 0.61209572, 0.616934  , 0.94374808, 0.6818203 ]],\n",
              "\n",
              "        [[0.3595079 , 0.43703195, 0.6976312 , 0.06022547, 0.66676672],\n",
              "         [0.67063787, 0.21038256, 0.1289263 , 0.31542835, 0.36371077],\n",
              "         [0.57019677, 0.43860151, 0.98837384, 0.10204481, 0.20887676],\n",
              "         [0.16130952, 0.65310833, 0.2532916 , 0.46631077, 0.24442559]]],\n",
              "\n",
              "\n",
              "       [[[0.15896958, 0.11037514, 0.65632959, 0.13818295, 0.19658236],\n",
              "         [0.36872517, 0.82099323, 0.09710128, 0.83794491, 0.09609841],\n",
              "         [0.97645947, 0.4686512 , 0.97676109, 0.60484552, 0.73926358],\n",
              "         [0.03918779, 0.28280696, 0.12019656, 0.2961402 , 0.11872772]],\n",
              "\n",
              "        [[0.31798318, 0.41426299, 0.0641475 , 0.69247212, 0.56660145],\n",
              "         [0.26538949, 0.52324805, 0.09394051, 0.5759465 , 0.9292962 ],\n",
              "         [0.31856895, 0.66741038, 0.13179786, 0.7163272 , 0.28940609],\n",
              "         [0.18319136, 0.58651293, 0.02010755, 0.82894003, 0.00469548]],\n",
              "\n",
              "        [[0.67781654, 0.27000797, 0.73519402, 0.96218855, 0.24875314],\n",
              "         [0.57615733, 0.59204193, 0.57225191, 0.22308163, 0.95274901],\n",
              "         [0.44712538, 0.84640867, 0.69947928, 0.29743695, 0.81379782],\n",
              "         [0.39650574, 0.8811032 , 0.58127287, 0.88173536, 0.69253159]]]])"
            ]
          },
          "metadata": {
            "tags": []
          },
          "execution_count": 23
        }
      ]
    },
    {
      "cell_type": "code",
      "metadata": {
        "id": "m14yZM-IxI9I",
        "colab_type": "code",
        "colab": {
          "base_uri": "https://localhost:8080/",
          "height": 527
        },
        "outputId": "ad6e03fe-ea03-42b6-fb7a-74c5c0275cd3"
      },
      "source": [
        "random_array_4[:,:,:,:3]"
      ],
      "execution_count": 24,
      "outputs": [
        {
          "output_type": "execute_result",
          "data": {
            "text/plain": [
              "array([[[[0.5488135 , 0.71518937, 0.60276338],\n",
              "         [0.64589411, 0.43758721, 0.891773  ],\n",
              "         [0.79172504, 0.52889492, 0.56804456],\n",
              "         [0.0871293 , 0.0202184 , 0.83261985]],\n",
              "\n",
              "        [[0.97861834, 0.79915856, 0.46147936],\n",
              "         [0.63992102, 0.14335329, 0.94466892],\n",
              "         [0.26455561, 0.77423369, 0.45615033],\n",
              "         [0.6176355 , 0.61209572, 0.616934  ]],\n",
              "\n",
              "        [[0.3595079 , 0.43703195, 0.6976312 ],\n",
              "         [0.67063787, 0.21038256, 0.1289263 ],\n",
              "         [0.57019677, 0.43860151, 0.98837384],\n",
              "         [0.16130952, 0.65310833, 0.2532916 ]]],\n",
              "\n",
              "\n",
              "       [[[0.15896958, 0.11037514, 0.65632959],\n",
              "         [0.36872517, 0.82099323, 0.09710128],\n",
              "         [0.97645947, 0.4686512 , 0.97676109],\n",
              "         [0.03918779, 0.28280696, 0.12019656]],\n",
              "\n",
              "        [[0.31798318, 0.41426299, 0.0641475 ],\n",
              "         [0.26538949, 0.52324805, 0.09394051],\n",
              "         [0.31856895, 0.66741038, 0.13179786],\n",
              "         [0.18319136, 0.58651293, 0.02010755]],\n",
              "\n",
              "        [[0.67781654, 0.27000797, 0.73519402],\n",
              "         [0.57615733, 0.59204193, 0.57225191],\n",
              "         [0.44712538, 0.84640867, 0.69947928],\n",
              "         [0.39650574, 0.8811032 , 0.58127287]]]])"
            ]
          },
          "metadata": {
            "tags": []
          },
          "execution_count": 24
        }
      ]
    },
    {
      "cell_type": "markdown",
      "metadata": {
        "id": "jECrKtABWEz3",
        "colab_type": "text"
      },
      "source": [
        "# Manipulating And Comparing Arrays"
      ]
    },
    {
      "cell_type": "markdown",
      "metadata": {
        "id": "7W0O1pqbWMCe",
        "colab_type": "text"
      },
      "source": [
        "## Arithmetic operations"
      ]
    },
    {
      "cell_type": "code",
      "metadata": {
        "id": "KzLzS5-bWQpN",
        "colab_type": "code",
        "colab": {
          "base_uri": "https://localhost:8080/",
          "height": 34
        },
        "outputId": "e2bab899-62b2-48ea-9dab-8d58f888c78f"
      },
      "source": [
        "a1"
      ],
      "execution_count": 25,
      "outputs": [
        {
          "output_type": "execute_result",
          "data": {
            "text/plain": [
              "array([1, 2, 3])"
            ]
          },
          "metadata": {
            "tags": []
          },
          "execution_count": 25
        }
      ]
    },
    {
      "cell_type": "code",
      "metadata": {
        "id": "AiYSDsayWWit",
        "colab_type": "code",
        "colab": {
          "base_uri": "https://localhost:8080/",
          "height": 51
        },
        "outputId": "9c0b7808-cd0e-4355-af50-35ed4e268185"
      },
      "source": [
        "a1-ones"
      ],
      "execution_count": 26,
      "outputs": [
        {
          "output_type": "execute_result",
          "data": {
            "text/plain": [
              "array([[0., 1., 2.],\n",
              "       [0., 1., 2.]])"
            ]
          },
          "metadata": {
            "tags": []
          },
          "execution_count": 26
        }
      ]
    },
    {
      "cell_type": "code",
      "metadata": {
        "id": "6EpMw37WWlSm",
        "colab_type": "code",
        "colab": {
          "base_uri": "https://localhost:8080/",
          "height": 51
        },
        "outputId": "dcac51c4-87c1-4b34-e90e-99a81393ea83"
      },
      "source": [
        "a1+ones"
      ],
      "execution_count": 27,
      "outputs": [
        {
          "output_type": "execute_result",
          "data": {
            "text/plain": [
              "array([[2., 3., 4.],\n",
              "       [2., 3., 4.]])"
            ]
          },
          "metadata": {
            "tags": []
          },
          "execution_count": 27
        }
      ]
    },
    {
      "cell_type": "code",
      "metadata": {
        "id": "pDYyEK0PWvsa",
        "colab_type": "code",
        "colab": {
          "base_uri": "https://localhost:8080/",
          "height": 51
        },
        "outputId": "382ecb1e-e890-41fb-b124-02959f690c79"
      },
      "source": [
        "a1*ones"
      ],
      "execution_count": 28,
      "outputs": [
        {
          "output_type": "execute_result",
          "data": {
            "text/plain": [
              "array([[1., 2., 3.],\n",
              "       [1., 2., 3.]])"
            ]
          },
          "metadata": {
            "tags": []
          },
          "execution_count": 28
        }
      ]
    },
    {
      "cell_type": "code",
      "metadata": {
        "id": "0ACs0hHBWy1M",
        "colab_type": "code",
        "colab": {
          "base_uri": "https://localhost:8080/",
          "height": 51
        },
        "outputId": "af3f4712-e67c-4525-96c4-33522f7b5a4e"
      },
      "source": [
        "a1*a2"
      ],
      "execution_count": 29,
      "outputs": [
        {
          "output_type": "execute_result",
          "data": {
            "text/plain": [
              "array([[ 1. ,  5.6,  9. ],\n",
              "       [ 4. , 10. , 18. ]])"
            ]
          },
          "metadata": {
            "tags": []
          },
          "execution_count": 29
        }
      ]
    },
    {
      "cell_type": "code",
      "metadata": {
        "id": "riNriDsHW2mU",
        "colab_type": "code",
        "colab": {
          "base_uri": "https://localhost:8080/",
          "height": 51
        },
        "outputId": "3a19874e-2e0b-45f3-d0c1-0959e772d962"
      },
      "source": [
        "##to find matrix or array raised to some power\n",
        "a2**2"
      ],
      "execution_count": 30,
      "outputs": [
        {
          "output_type": "execute_result",
          "data": {
            "text/plain": [
              "array([[ 1.  ,  7.84,  9.  ],\n",
              "       [16.  , 25.  , 36.  ]])"
            ]
          },
          "metadata": {
            "tags": []
          },
          "execution_count": 30
        }
      ]
    },
    {
      "cell_type": "code",
      "metadata": {
        "id": "_8Wma0nxW_PU",
        "colab_type": "code",
        "colab": {
          "base_uri": "https://localhost:8080/",
          "height": 34
        },
        "outputId": "fe6db7e8-8fb9-4eaa-e8f1-7700e7bb1c45"
      },
      "source": [
        "a1%2"
      ],
      "execution_count": 31,
      "outputs": [
        {
          "output_type": "execute_result",
          "data": {
            "text/plain": [
              "array([1, 0, 1])"
            ]
          },
          "metadata": {
            "tags": []
          },
          "execution_count": 31
        }
      ]
    },
    {
      "cell_type": "code",
      "metadata": {
        "id": "w5jHEARhXCOj",
        "colab_type": "code",
        "colab": {
          "base_uri": "https://localhost:8080/",
          "height": 34
        },
        "outputId": "a2e1a8fc-1285-4aba-f9b7-0178e850181b"
      },
      "source": [
        "np.exp(a1)"
      ],
      "execution_count": 32,
      "outputs": [
        {
          "output_type": "execute_result",
          "data": {
            "text/plain": [
              "array([ 2.71828183,  7.3890561 , 20.08553692])"
            ]
          },
          "metadata": {
            "tags": []
          },
          "execution_count": 32
        }
      ]
    },
    {
      "cell_type": "code",
      "metadata": {
        "id": "9_UkJG7XXLXf",
        "colab_type": "code",
        "colab": {
          "base_uri": "https://localhost:8080/",
          "height": 34
        },
        "outputId": "f907e505-a4f2-43e4-97c1-1f68e2869de7"
      },
      "source": [
        "np.log(a1)"
      ],
      "execution_count": 33,
      "outputs": [
        {
          "output_type": "execute_result",
          "data": {
            "text/plain": [
              "array([0.        , 0.69314718, 1.09861229])"
            ]
          },
          "metadata": {
            "tags": []
          },
          "execution_count": 33
        }
      ]
    },
    {
      "cell_type": "markdown",
      "metadata": {
        "id": "4XmDr8cGnjh0",
        "colab_type": "text"
      },
      "source": [
        "#Aggregation\n",
        "##Performing same task on number of things"
      ]
    },
    {
      "cell_type": "code",
      "metadata": {
        "id": "CITTHhY1nr59",
        "colab_type": "code",
        "colab": {
          "base_uri": "https://localhost:8080/",
          "height": 34
        },
        "outputId": "7921021d-9d46-4e88-d9f8-98f61088f510"
      },
      "source": [
        "##Lets create a python list\n",
        "numbers = [1,2,3]\n",
        "type(numbers)"
      ],
      "execution_count": 34,
      "outputs": [
        {
          "output_type": "execute_result",
          "data": {
            "text/plain": [
              "list"
            ]
          },
          "metadata": {
            "tags": []
          },
          "execution_count": 34
        }
      ]
    },
    {
      "cell_type": "code",
      "metadata": {
        "id": "8boYDc_An2TA",
        "colab_type": "code",
        "colab": {
          "base_uri": "https://localhost:8080/",
          "height": 34
        },
        "outputId": "72f96fca-dbcb-4089-e8a6-25c9141d4f36"
      },
      "source": [
        "sum(numbers)"
      ],
      "execution_count": 35,
      "outputs": [
        {
          "output_type": "execute_result",
          "data": {
            "text/plain": [
              "6"
            ]
          },
          "metadata": {
            "tags": []
          },
          "execution_count": 35
        }
      ]
    },
    {
      "cell_type": "code",
      "metadata": {
        "id": "_OutnYYkn5Yc",
        "colab_type": "code",
        "colab": {
          "base_uri": "https://localhost:8080/",
          "height": 34
        },
        "outputId": "e3d59731-77b9-4dde-b71b-760dfedf3a9f"
      },
      "source": [
        "##We should use python function when dealing with python data type\n",
        "##And numpy functions when dealing with numpy array\n",
        "np.sum(a1)"
      ],
      "execution_count": 36,
      "outputs": [
        {
          "output_type": "execute_result",
          "data": {
            "text/plain": [
              "6"
            ]
          },
          "metadata": {
            "tags": []
          },
          "execution_count": 36
        }
      ]
    },
    {
      "cell_type": "code",
      "metadata": {
        "id": "PLTDs9lToRMu",
        "colab_type": "code",
        "colab": {
          "base_uri": "https://localhost:8080/",
          "height": 85
        },
        "outputId": "003defa9-dde6-463f-a496-9d5b1cefe366"
      },
      "source": [
        "##Comparing computational time between python and numpy functions\n",
        "arr = np.array([1,2,3])\n",
        "%timeit sum(numbers)\n",
        "%timeit np.sum(arr)\n",
        "##from results it can be seen numpy performs numerical computations faster"
      ],
      "execution_count": 37,
      "outputs": [
        {
          "output_type": "stream",
          "text": [
            "The slowest run took 15.63 times longer than the fastest. This could mean that an intermediate result is being cached.\n",
            "10000000 loops, best of 3: 122 ns per loop\n",
            "The slowest run took 13.57 times longer than the fastest. This could mean that an intermediate result is being cached.\n",
            "100000 loops, best of 3: 3.79 µs per loop\n"
          ],
          "name": "stdout"
        }
      ]
    },
    {
      "cell_type": "code",
      "metadata": {
        "id": "CBbMutzapEIf",
        "colab_type": "code",
        "colab": {
          "base_uri": "https://localhost:8080/",
          "height": 34
        },
        "outputId": "1ed2d4d1-525c-4f64-aeb4-cc7ff28b3279"
      },
      "source": [
        "##Some more computational functions\n",
        "np.mean(arr),np.min(arr),np.max(arr)"
      ],
      "execution_count": 38,
      "outputs": [
        {
          "output_type": "execute_result",
          "data": {
            "text/plain": [
              "(2.0, 1, 3)"
            ]
          },
          "metadata": {
            "tags": []
          },
          "execution_count": 38
        }
      ]
    },
    {
      "cell_type": "markdown",
      "metadata": {
        "id": "gpZ7pT9cpTWt",
        "colab_type": "text"
      },
      "source": [
        "##Standard deviation and variance to analyse the range of data"
      ]
    },
    {
      "cell_type": "code",
      "metadata": {
        "id": "7GG1M5VSpajn",
        "colab_type": "code",
        "colab": {
          "base_uri": "https://localhost:8080/",
          "height": 34
        },
        "outputId": "51df0ff9-3f52-4365-9002-8c24d45d0266"
      },
      "source": [
        "##Higher is the variance higher is the range of numbers\n",
        "np.var(arr)"
      ],
      "execution_count": 39,
      "outputs": [
        {
          "output_type": "execute_result",
          "data": {
            "text/plain": [
              "0.6666666666666666"
            ]
          },
          "metadata": {
            "tags": []
          },
          "execution_count": 39
        }
      ]
    },
    {
      "cell_type": "code",
      "metadata": {
        "id": "7BULzdhWpaiV",
        "colab_type": "code",
        "colab": {}
      },
      "source": [
        "##To prove above statement lets create two different arrays\n",
        "arr_high_var = np.array([20000,100,700,57,567,7890])\n",
        "arr_low_var = np.array([24,89,16,234,119,435])"
      ],
      "execution_count": 40,
      "outputs": []
    },
    {
      "cell_type": "code",
      "metadata": {
        "id": "Hn9p04NRqHMf",
        "colab_type": "code",
        "colab": {
          "base_uri": "https://localhost:8080/",
          "height": 34
        },
        "outputId": "2b7b5c24-90d5-4e85-ca94-1d1d7918a854"
      },
      "source": [
        "np.var(arr_high_var),np.var(arr_low_var)"
      ],
      "execution_count": 41,
      "outputs": [
        {
          "output_type": "execute_result",
          "data": {
            "text/plain": [
              "(53309734.22222223, 21124.47222222222)"
            ]
          },
          "metadata": {
            "tags": []
          },
          "execution_count": 41
        }
      ]
    },
    {
      "cell_type": "code",
      "metadata": {
        "id": "_XIyH0_UqP2f",
        "colab_type": "code",
        "colab": {
          "base_uri": "https://localhost:8080/",
          "height": 34
        },
        "outputId": "adbb18ff-01f3-4351-897d-38b3b762cde4"
      },
      "source": [
        "##Standard divation is the square root of variance\n",
        "np.std(arr_high_var),np.std(arr_low_var)"
      ],
      "execution_count": 42,
      "outputs": [
        {
          "output_type": "execute_result",
          "data": {
            "text/plain": [
              "(7301.3515339437145, 145.3426029153951)"
            ]
          },
          "metadata": {
            "tags": []
          },
          "execution_count": 42
        }
      ]
    },
    {
      "cell_type": "code",
      "metadata": {
        "id": "twRK0IyZqac9",
        "colab_type": "code",
        "colab": {
          "base_uri": "https://localhost:8080/",
          "height": 34
        },
        "outputId": "38e560d3-633f-461f-e8ae-f1eee0f496b4"
      },
      "source": [
        "##In order to prove find sqrt of variance\n",
        "np.sqrt(np.var(arr_high_var)),np.sqrt(np.var(arr_low_var))"
      ],
      "execution_count": 43,
      "outputs": [
        {
          "output_type": "execute_result",
          "data": {
            "text/plain": [
              "(7301.3515339437145, 145.3426029153951)"
            ]
          },
          "metadata": {
            "tags": []
          },
          "execution_count": 43
        }
      ]
    },
    {
      "cell_type": "code",
      "metadata": {
        "id": "0u3soBGCqpiy",
        "colab_type": "code",
        "colab": {
          "base_uri": "https://localhost:8080/",
          "height": 265
        },
        "outputId": "76fc32a9-098d-4d75-d5ad-6a6d304096ff"
      },
      "source": [
        "##To visualise what we said lets plot\n",
        "%matplotlib inline\n",
        "import matplotlib.pyplot as plt\n",
        "plt.hist(arr_high_var)\n",
        "plt.show()"
      ],
      "execution_count": 44,
      "outputs": [
        {
          "output_type": "display_data",
          "data": {
            "image/png": "[encoded data removed]",
            "text/plain": [
              "<Figure size 432x288 with 1 Axes>"
            ]
          },
          "metadata": {
            "tags": [],
            "needs_background": "light"
          }
        }
      ]
    },
    {
      "cell_type": "code",
      "metadata": {
        "id": "CcujD8M-rBQs",
        "colab_type": "code",
        "colab": {
          "base_uri": "https://localhost:8080/",
          "height": 265
        },
        "outputId": "b6b8111f-fad2-4578-8d8b-8841a1f1c28a"
      },
      "source": [
        "##Similarly lets visualise for array with low variance\n",
        "%matplotlib inline\n",
        "import matplotlib.pyplot as plt\n",
        "plt.hist(arr_low_var)\n",
        "plt.show()"
      ],
      "execution_count": 45,
      "outputs": [
        {
          "output_type": "display_data",
          "data": {
            "image/png": "[encoded data removed]",
            "text/plain": [
              "<Figure size 432x288 with 1 Axes>"
            ]
          },
          "metadata": {
            "tags": [],
            "needs_background": "light"
          }
        }
      ]
    },
    {
      "cell_type": "markdown",
      "metadata": {
        "id": "Ay1i_Y8BrNW-",
        "colab_type": "text"
      },
      "source": [
        "#Reshaping And Transposing Numpy Array"
      ]
    },
    {
      "cell_type": "code",
      "metadata": {
        "id": "Dy8BIfX-rR8G",
        "colab_type": "code",
        "colab": {
          "base_uri": "https://localhost:8080/",
          "height": 136
        },
        "outputId": "7d7b8432-d7a5-416a-9ac1-087c3dd33834"
      },
      "source": [
        "##Since we were unable to broadcast a2 and a3 before\n",
        "##As to broadcast all the dimensions should either be same or one of them should be 1\n",
        "##So we can reshape any numpy array\n",
        "##Reshaping will return an array containing same data with new shape\n",
        "a2_reshape = a2.reshape(2,3,1)\n",
        "a2_reshape"
      ],
      "execution_count": 46,
      "outputs": [
        {
          "output_type": "execute_result",
          "data": {
            "text/plain": [
              "array([[[1. ],\n",
              "        [2.8],\n",
              "        [3. ]],\n",
              "\n",
              "       [[4. ],\n",
              "        [5. ],\n",
              "        [6. ]]])"
            ]
          },
          "metadata": {
            "tags": []
          },
          "execution_count": 46
        }
      ]
    },
    {
      "cell_type": "code",
      "metadata": {
        "id": "-pn-XJDfr6Gf",
        "colab_type": "code",
        "colab": {
          "base_uri": "https://localhost:8080/",
          "height": 136
        },
        "outputId": "01ec82da-eb60-4ea6-af53-1bde99ca214c"
      },
      "source": [
        "#Now even we can broadcast a2 and a3\n",
        "a2_reshape*a3"
      ],
      "execution_count": 47,
      "outputs": [
        {
          "output_type": "execute_result",
          "data": {
            "text/plain": [
              "array([[[ 1. ,  2. ,  3. ],\n",
              "        [11.2, 14. , 16.8],\n",
              "        [15. , 18. , 21. ]],\n",
              "\n",
              "       [[28. , 32. , 36. ],\n",
              "        [50. , 55. , 60. ],\n",
              "        [78. , 84. , 90. ]]])"
            ]
          },
          "metadata": {
            "tags": []
          },
          "execution_count": 47
        }
      ]
    },
    {
      "cell_type": "code",
      "metadata": {
        "id": "5a46XlVesDUP",
        "colab_type": "code",
        "colab": {
          "base_uri": "https://localhost:8080/",
          "height": 68
        },
        "outputId": "5713ebf0-48f5-4ac2-d06f-618c4092a8e3"
      },
      "source": [
        "##Transposing an array switches the axis\n",
        "a2.T"
      ],
      "execution_count": 48,
      "outputs": [
        {
          "output_type": "execute_result",
          "data": {
            "text/plain": [
              "array([[1. , 4. ],\n",
              "       [2.8, 5. ],\n",
              "       [3. , 6. ]])"
            ]
          },
          "metadata": {
            "tags": []
          },
          "execution_count": 48
        }
      ]
    },
    {
      "cell_type": "markdown",
      "metadata": {
        "id": "ouoHSy2f1Mu-",
        "colab_type": "text"
      },
      "source": [
        "#Dot Product & Hadamard Product"
      ]
    },
    {
      "cell_type": "code",
      "metadata": {
        "id": "dGjYGUiA1SKr",
        "colab_type": "code",
        "colab": {}
      },
      "source": [
        "##Lets create two matrices\n",
        "np.random.seed(0)\n",
        "mat1 = np.random.randint(10,size=(5,3))\n",
        "mat2 = np.random.randint(10,size=(5,3))"
      ],
      "execution_count": 49,
      "outputs": []
    },
    {
      "cell_type": "code",
      "metadata": {
        "id": "wT-d6U0s1men",
        "colab_type": "code",
        "colab": {
          "base_uri": "https://localhost:8080/",
          "height": 102
        },
        "outputId": "182582b3-9729-4fc1-deae-3ca2e049c8c6"
      },
      "source": [
        "##Hadamard Product or element wise product\n",
        "mat1*mat2"
      ],
      "execution_count": 50,
      "outputs": [
        {
          "output_type": "execute_result",
          "data": {
            "text/plain": [
              "array([[30,  0, 21],\n",
              "       [24,  7, 45],\n",
              "       [27, 40, 18],\n",
              "       [16, 21,  0],\n",
              "       [24, 40,  0]])"
            ]
          },
          "metadata": {
            "tags": []
          },
          "execution_count": 50
        }
      ]
    },
    {
      "cell_type": "code",
      "metadata": {
        "id": "5pMkrayO12d0",
        "colab_type": "code",
        "colab": {
          "base_uri": "https://localhost:8080/",
          "height": 34
        },
        "outputId": "de3b1662-dce7-4703-edca-fd7c25c4b957"
      },
      "source": [
        "##For dot product we cant perform between(5,3) and (5,3)\n",
        "##as the column of first should match with the row of second\n",
        "#So for that transpose one of the matrix\n",
        "mat3 = np.dot(mat1.T,mat2)\n",
        "mat3.shape"
      ],
      "execution_count": 51,
      "outputs": [
        {
          "output_type": "execute_result",
          "data": {
            "text/plain": [
              "(3, 3)"
            ]
          },
          "metadata": {
            "tags": []
          },
          "execution_count": 51
        }
      ]
    },
    {
      "cell_type": "markdown",
      "metadata": {
        "id": "I9Rx7L052ifW",
        "colab_type": "text"
      },
      "source": [
        "#Real life example using Dot Product"
      ]
    },
    {
      "cell_type": "code",
      "metadata": {
        "id": "Pr-aOAEJ2pc4",
        "colab_type": "code",
        "colab": {
          "base_uri": "https://localhost:8080/",
          "height": 204
        },
        "outputId": "9b10b119-07c8-4760-b1bb-33be36e3c0f1"
      },
      "source": [
        "np.random.seed(0)\n",
        "sales_amount = np.random.randint(20,size=(5,3))\n",
        "weekly_sales = pd.DataFrame(sales_amount,index=[\"Mon\",\"Tue\",\"Wed\",\"Thur\",\"Fri\"],columns = [\"Almond Butter\",\"Cashew Butter\",\"Peanut Butter\"])\n",
        "weekly_sales"
      ],
      "execution_count": 52,
      "outputs": [
        {
          "output_type": "execute_result",
          "data": {
            "text/html": [
              "<div>\n",
              "<style scoped>\n",
              "    .dataframe tbody tr th:only-of-type {\n",
              "        vertical-align: middle;\n",
              "    }\n",
              "\n",
              "    .dataframe tbody tr th {\n",
              "        vertical-align: top;\n",
              "    }\n",
              "\n",
              "    .dataframe thead th {\n",
              "        text-align: right;\n",
              "    }\n",
              "</style>\n",
              "<table border=\"1\" class=\"dataframe\">\n",
              "  <thead>\n",
              "    <tr style=\"text-align: right;\">\n",
              "      <th></th>\n",
              "      <th>Almond Butter</th>\n",
              "      <th>Cashew Butter</th>\n",
              "      <th>Peanut Butter</th>\n",
              "    </tr>\n",
              "  </thead>\n",
              "  <tbody>\n",
              "    <tr>\n",
              "      <th>Mon</th>\n",
              "      <td>12</td>\n",
              "      <td>15</td>\n",
              "      <td>0</td>\n",
              "    </tr>\n",
              "    <tr>\n",
              "      <th>Tue</th>\n",
              "      <td>3</td>\n",
              "      <td>3</td>\n",
              "      <td>7</td>\n",
              "    </tr>\n",
              "    <tr>\n",
              "      <th>Wed</th>\n",
              "      <td>9</td>\n",
              "      <td>19</td>\n",
              "      <td>18</td>\n",
              "    </tr>\n",
              "    <tr>\n",
              "      <th>Thur</th>\n",
              "      <td>4</td>\n",
              "      <td>6</td>\n",
              "      <td>12</td>\n",
              "    </tr>\n",
              "    <tr>\n",
              "      <th>Fri</th>\n",
              "      <td>1</td>\n",
              "      <td>6</td>\n",
              "      <td>7</td>\n",
              "    </tr>\n",
              "  </tbody>\n",
              "</table>\n",
              "</div>"
            ],
            "text/plain": [
              "      Almond Butter  Cashew Butter  Peanut Butter\n",
              "Mon              12             15              0\n",
              "Tue               3              3              7\n",
              "Wed               9             19             18\n",
              "Thur              4              6             12\n",
              "Fri               1              6              7"
            ]
          },
          "metadata": {
            "tags": []
          },
          "execution_count": 52
        }
      ]
    },
    {
      "cell_type": "code",
      "metadata": {
        "id": "WSul6ip-auT6",
        "colab_type": "code",
        "colab": {
          "base_uri": "https://localhost:8080/",
          "height": 80
        },
        "outputId": "76d44f2e-e486-4722-91da-0e627f08a953"
      },
      "source": [
        "price = np.array([10,8,12])\n",
        "pricedf = pd.DataFrame(price.reshape(1,3),index = [\"Price\"],columns = [\"Almond Butter\",\"Cashew Butter\",\"Peanut Butter\"])\n",
        "pricedf"
      ],
      "execution_count": 53,
      "outputs": [
        {
          "output_type": "execute_result",
          "data": {
            "text/html": [
              "<div>\n",
              "<style scoped>\n",
              "    .dataframe tbody tr th:only-of-type {\n",
              "        vertical-align: middle;\n",
              "    }\n",
              "\n",
              "    .dataframe tbody tr th {\n",
              "        vertical-align: top;\n",
              "    }\n",
              "\n",
              "    .dataframe thead th {\n",
              "        text-align: right;\n",
              "    }\n",
              "</style>\n",
              "<table border=\"1\" class=\"dataframe\">\n",
              "  <thead>\n",
              "    <tr style=\"text-align: right;\">\n",
              "      <th></th>\n",
              "      <th>Almond Butter</th>\n",
              "      <th>Cashew Butter</th>\n",
              "      <th>Peanut Butter</th>\n",
              "    </tr>\n",
              "  </thead>\n",
              "  <tbody>\n",
              "    <tr>\n",
              "      <th>Price</th>\n",
              "      <td>10</td>\n",
              "      <td>8</td>\n",
              "      <td>12</td>\n",
              "    </tr>\n",
              "  </tbody>\n",
              "</table>\n",
              "</div>"
            ],
            "text/plain": [
              "       Almond Butter  Cashew Butter  Peanut Butter\n",
              "Price             10              8             12"
            ]
          },
          "metadata": {
            "tags": []
          },
          "execution_count": 53
        }
      ]
    },
    {
      "cell_type": "code",
      "metadata": {
        "id": "bIVqNr8XmRmc",
        "colab_type": "code",
        "colab": {
          "base_uri": "https://localhost:8080/",
          "height": 34
        },
        "outputId": "84e46f82-9eba-410f-9871-0ae3b9a068a4"
      },
      "source": [
        "total = np.dot(pricedf,weekly_sales.T)\n",
        "total"
      ],
      "execution_count": 54,
      "outputs": [
        {
          "output_type": "execute_result",
          "data": {
            "text/plain": [
              "array([[240, 138, 458, 232, 142]])"
            ]
          },
          "metadata": {
            "tags": []
          },
          "execution_count": 54
        }
      ]
    },
    {
      "cell_type": "code",
      "metadata": {
        "id": "2FIyEGNzmpCJ",
        "colab_type": "code",
        "colab": {
          "base_uri": "https://localhost:8080/",
          "height": 102
        },
        "outputId": "eda7b441-1ee6-4695-a633-6c765f261932"
      },
      "source": [
        "total.T"
      ],
      "execution_count": 55,
      "outputs": [
        {
          "output_type": "execute_result",
          "data": {
            "text/plain": [
              "array([[240],\n",
              "       [138],\n",
              "       [458],\n",
              "       [232],\n",
              "       [142]])"
            ]
          },
          "metadata": {
            "tags": []
          },
          "execution_count": 55
        }
      ]
    },
    {
      "cell_type": "code",
      "metadata": {
        "id": "m9rN1n45oPkY",
        "colab_type": "code",
        "colab": {
          "base_uri": "https://localhost:8080/",
          "height": 204
        },
        "outputId": "cabd6852-dde3-439b-d5eb-e587ff2758c3"
      },
      "source": [
        "weekly_sales[\"Total ($)\"] = total.T\n",
        "weekly_sales"
      ],
      "execution_count": 56,
      "outputs": [
        {
          "output_type": "execute_result",
          "data": {
            "text/html": [
              "<div>\n",
              "<style scoped>\n",
              "    .dataframe tbody tr th:only-of-type {\n",
              "        vertical-align: middle;\n",
              "    }\n",
              "\n",
              "    .dataframe tbody tr th {\n",
              "        vertical-align: top;\n",
              "    }\n",
              "\n",
              "    .dataframe thead th {\n",
              "        text-align: right;\n",
              "    }\n",
              "</style>\n",
              "<table border=\"1\" class=\"dataframe\">\n",
              "  <thead>\n",
              "    <tr style=\"text-align: right;\">\n",
              "      <th></th>\n",
              "      <th>Almond Butter</th>\n",
              "      <th>Cashew Butter</th>\n",
              "      <th>Peanut Butter</th>\n",
              "      <th>Total ($)</th>\n",
              "    </tr>\n",
              "  </thead>\n",
              "  <tbody>\n",
              "    <tr>\n",
              "      <th>Mon</th>\n",
              "      <td>12</td>\n",
              "      <td>15</td>\n",
              "      <td>0</td>\n",
              "      <td>240</td>\n",
              "    </tr>\n",
              "    <tr>\n",
              "      <th>Tue</th>\n",
              "      <td>3</td>\n",
              "      <td>3</td>\n",
              "      <td>7</td>\n",
              "      <td>138</td>\n",
              "    </tr>\n",
              "    <tr>\n",
              "      <th>Wed</th>\n",
              "      <td>9</td>\n",
              "      <td>19</td>\n",
              "      <td>18</td>\n",
              "      <td>458</td>\n",
              "    </tr>\n",
              "    <tr>\n",
              "      <th>Thur</th>\n",
              "      <td>4</td>\n",
              "      <td>6</td>\n",
              "      <td>12</td>\n",
              "      <td>232</td>\n",
              "    </tr>\n",
              "    <tr>\n",
              "      <th>Fri</th>\n",
              "      <td>1</td>\n",
              "      <td>6</td>\n",
              "      <td>7</td>\n",
              "      <td>142</td>\n",
              "    </tr>\n",
              "  </tbody>\n",
              "</table>\n",
              "</div>"
            ],
            "text/plain": [
              "      Almond Butter  Cashew Butter  Peanut Butter  Total ($)\n",
              "Mon              12             15              0        240\n",
              "Tue               3              3              7        138\n",
              "Wed               9             19             18        458\n",
              "Thur              4              6             12        232\n",
              "Fri               1              6              7        142"
            ]
          },
          "metadata": {
            "tags": []
          },
          "execution_count": 56
        }
      ]
    },
    {
      "cell_type": "code",
      "metadata": {
        "id": "PSrSW4px7zsF",
        "colab_type": "code",
        "colab": {}
      },
      "source": [
        "#Comparison Operators\n",
        "a1>a2"
      ],
      "execution_count": null,
      "outputs": []
    },
    {
      "cell_type": "markdown",
      "metadata": {
        "id": "Tou5oNYr7649",
        "colab_type": "text"
      },
      "source": [
        "##Sorting Arrays"
      ]
    },
    {
      "cell_type": "code",
      "metadata": {
        "id": "FnBPDIgb79g7",
        "colab_type": "code",
        "colab": {}
      },
      "source": [
        "random_array_1"
      ],
      "execution_count": null,
      "outputs": []
    },
    {
      "cell_type": "code",
      "metadata": {
        "id": "eHHhTJg98BbR",
        "colab_type": "code",
        "colab": {}
      },
      "source": [
        "np.sort(random_array_1)"
      ],
      "execution_count": null,
      "outputs": []
    },
    {
      "cell_type": "code",
      "metadata": {
        "id": "lU5llBCL8FiB",
        "colab_type": "code",
        "colab": {}
      },
      "source": [
        "##argsort will return the order in which indexes are written\n",
        "np.argsort(random_array_1)"
      ],
      "execution_count": null,
      "outputs": []
    },
    {
      "cell_type": "code",
      "metadata": {
        "id": "aOwMJ0_y8tJz",
        "colab_type": "code",
        "colab": {
          "base_uri": "https://localhost:8080/",
          "height": 34
        },
        "outputId": "8f54f5f7-7b81-47c1-f1a7-4b922ac6486f"
      },
      "source": [
        "##To find index where minimum number comes\n",
        "np.argmin(random_array_1)"
      ],
      "execution_count": 58,
      "outputs": [
        {
          "output_type": "execute_result",
          "data": {
            "text/plain": [
              "0"
            ]
          },
          "metadata": {
            "tags": []
          },
          "execution_count": 58
        }
      ]
    },
    {
      "cell_type": "markdown",
      "metadata": {
        "id": "wH_jiSEB4ZCv",
        "colab_type": "text"
      },
      "source": [
        "##Turning Images into numpy array"
      ]
    },
    {
      "cell_type": "code",
      "metadata": {
        "id": "taILcXOc9oQP",
        "colab_type": "code",
        "colab": {
          "base_uri": "https://localhost:8080/",
          "height": 122
        },
        "outputId": "00239e92-f657-4449-914b-3369889e7327"
      },
      "source": [
        "from google.colab import drive\n",
        "drive.mount('/content/drive/')"
      ],
      "execution_count": 67,
      "outputs": [
        {
          "output_type": "stream",
          "text": [
            "Go to this URL in a browser: https://accounts.google.com/o/oauth2/auth?client_id=947318989803-6bn6qk8qdgf4n4g3pfee6491hc0brc4i.apps.googleusercontent.com&redirect_uri=urn%3aietf%3awg%3aoauth%3a2.0%3aoob&scope=email%20https%3a%2f%2fwww.googleapis.com%2fauth%2fdocs.test%20https%3a%2f%2fwww.googleapis.com%2fauth%2fdrive%20https%3a%2f%2fwww.googleapis.com%2fauth%2fdrive.photos.readonly%20https%3a%2f%2fwww.googleapis.com%2fauth%2fpeopleapi.readonly&response_type=code\n",
            "\n",
            "Enter your authorization code:\n",
            "··········\n",
            "Mounted at /content/drive/\n"
          ],
          "name": "stdout"
        }
      ]
    },
    {
      "cell_type": "code",
      "metadata": {
        "id": "e4XBAnQ7AhC9",
        "colab_type": "code",
        "colab": {
          "base_uri": "https://localhost:8080/",
          "height": 850
        },
        "outputId": "77064d52-8a27-4fe4-adbf-c14daa21ea2b"
      },
      "source": [
        "import cv2\n",
        "from matplotlib.image import imread\n",
        "img = cv2.imread(\"/content/drive/My Drive/panda.png\")\n",
        "img"
      ],
      "execution_count": 72,
      "outputs": [
        {
          "output_type": "execute_result",
          "data": {
            "text/plain": [
              "array([[[17, 27, 14],\n",
              "        [17, 27, 14],\n",
              "        [17, 27, 14],\n",
              "        ...,\n",
              "        [24, 33, 42],\n",
              "        [24, 33, 42],\n",
              "        [24, 33, 42]],\n",
              "\n",
              "       [[17, 27, 14],\n",
              "        [17, 27, 14],\n",
              "        [17, 27, 14],\n",
              "        ...,\n",
              "        [24, 33, 42],\n",
              "        [24, 33, 42],\n",
              "        [24, 33, 42]],\n",
              "\n",
              "       [[17, 27, 14],\n",
              "        [17, 27, 14],\n",
              "        [17, 27, 14],\n",
              "        ...,\n",
              "        [24, 33, 42],\n",
              "        [24, 33, 42],\n",
              "        [24, 33, 42]],\n",
              "\n",
              "       ...,\n",
              "\n",
              "       [[14, 19, 34],\n",
              "        [11, 16, 31],\n",
              "        [ 8, 13, 28],\n",
              "        ...,\n",
              "        [ 9,  7,  7],\n",
              "        [ 9,  7,  7],\n",
              "        [ 9,  7,  7]],\n",
              "\n",
              "       [[14, 19, 34],\n",
              "        [11, 16, 31],\n",
              "        [11, 16, 31],\n",
              "        ...,\n",
              "        [ 8,  6,  6],\n",
              "        [ 8,  6,  6],\n",
              "        [ 8,  6,  6]],\n",
              "\n",
              "       [[14, 19, 34],\n",
              "        [11, 16, 31],\n",
              "        [11, 16, 31],\n",
              "        ...,\n",
              "        [ 8,  6,  6],\n",
              "        [ 8,  6,  6],\n",
              "        [ 8,  6,  6]]], dtype=uint8)"
            ]
          },
          "metadata": {
            "tags": []
          },
          "execution_count": 72
        }
      ]
    },
    {
      "cell_type": "code",
      "metadata": {
        "id": "MBUlrcz-Do2g",
        "colab_type": "code",
        "colab": {
          "base_uri": "https://localhost:8080/",
          "height": 34
        },
        "outputId": "15ebef57-c156-4aad-d441-09e24d65f851"
      },
      "source": [
        "type(img)"
      ],
      "execution_count": 73,
      "outputs": [
        {
          "output_type": "execute_result",
          "data": {
            "text/plain": [
              "numpy.ndarray"
            ]
          },
          "metadata": {
            "tags": []
          },
          "execution_count": 73
        }
      ]
    }
  ]
}